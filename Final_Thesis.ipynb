{
  "nbformat": 4,
  "nbformat_minor": 0,
  "metadata": {
    "colab": {
      "provenance": [],
      "collapsed_sections": [],
      "authorship_tag": "ABX9TyPfGjDGOjwfzHc9N3b6CDCW",
      "include_colab_link": true
    },
    "kernelspec": {
      "name": "python3",
      "display_name": "Python 3"
    },
    "language_info": {
      "name": "python"
    },
    "accelerator": "GPU",
    "gpuClass": "standard"
  },
  "cells": [
    {
      "cell_type": "markdown",
      "metadata": {
        "id": "view-in-github",
        "colab_type": "text"
      },
      "source": [
        "<a href=\"https://colab.research.google.com/github/vsancnaj/anomaly_detection_thesis/blob/main/Final_Thesis.ipynb\" target=\"_parent\"><img src=\"https://colab.research.google.com/assets/colab-badge.svg\" alt=\"Open In Colab\"/></a>"
      ]
    },
    {
      "cell_type": "markdown",
      "source": [
        "# Import Packages"
      ],
      "metadata": {
        "id": "fUQU_PrayTyx"
      }
    },
    {
      "cell_type": "code",
      "source": [
        "import pandas as pd\n",
        "import numpy as np\n",
        "from numpy import array\n",
        "from numpy import hstack\n",
        "import os\n",
        "import matplotlib.pyplot as plt\n",
        "import h5py\n",
        "\n",
        "from sklearn.model_selection import train_test_split\n",
        "from sklearn.preprocessing import StandardScaler\n",
        "from sklearn.metrics import mean_squared_error\n",
        "from sklearn import preprocessing\n",
        "from sklearn.model_selection import *\n",
        "from sklearn.metrics import mean_absolute_error\n",
        "\n",
        "from tensorflow.keras.models import Sequential\n",
        "from tensorflow.keras.layers import *\n",
        "from tensorflow.keras.callbacks import ModelCheckpoint\n",
        "from tensorflow.keras.losses import MeanSquaredError\n",
        "from tensorflow.keras.metrics import RootMeanSquaredError\n",
        "from tensorflow.keras.optimizers import Adam\n",
        "\n",
        "from keras.callbacks import ModelCheckpoint, EarlyStopping\n",
        "from keras.models import load_model"
      ],
      "metadata": {
        "id": "Lc3Fy4ctyXls"
      },
      "execution_count": null,
      "outputs": []
    },
    {
      "cell_type": "markdown",
      "source": [
        "# Import Data"
      ],
      "metadata": {
        "id": "8Au2MQmTqLj0"
      }
    },
    {
      "cell_type": "code",
      "execution_count": null,
      "metadata": {
        "id": "ExWLUjjgqB7K",
        "colab": {
          "base_uri": "https://localhost:8080/"
        },
        "outputId": "72aef993-f461-4844-ce8f-56b2b8500fa9"
      },
      "outputs": [
        {
          "output_type": "stream",
          "name": "stdout",
          "text": [
            "Drive already mounted at /content/drive/; to attempt to forcibly remount, call drive.mount(\"/content/drive/\", force_remount=True).\n"
          ]
        }
      ],
      "source": [
        "from google.colab import drive\n",
        "drive.mount('/content/drive/')"
      ]
    },
    {
      "cell_type": "code",
      "source": [
        "df = pd.read_csv('/content/drive/MyDrive/Thesis/csv/all_velocities3.csv')"
      ],
      "metadata": {
        "id": "ZvlIUBb3yniy"
      },
      "execution_count": null,
      "outputs": []
    },
    {
      "cell_type": "code",
      "source": [
        "df1 = pd.read_csv('/content/drive/MyDrive/Thesis/csv/test1.csv')\n",
        "df2 = pd.read_csv('/content/drive/MyDrive/Thesis/csv/test2.csv')"
      ],
      "metadata": {
        "id": "2swQko7-zAyL"
      },
      "execution_count": null,
      "outputs": []
    },
    {
      "cell_type": "markdown",
      "source": [
        "# Prepare Data"
      ],
      "metadata": {
        "id": "2bEEVoF6zG-U"
      }
    },
    {
      "cell_type": "code",
      "source": [
        "def create_new_cols(df):\n",
        "  # -- Create new columns to save new numpy arrays\n",
        "  df['Past Velocity'] = 0\n",
        "  df['Past Velocity'] = df['Past Velocity'].astype(object)\n",
        "  df['Future Velocity'] = 0\n",
        "  #in order to save as numpy not string # -- BY default pandas saves as string\n",
        "  df['Future Velocity'] = df['Future Velocity'].astype(object) \n",
        "  # -- with astype.(object) we tell Pandas to save the variable as the type of the original input\n",
        "  return df"
      ],
      "metadata": {
        "id": "PY7XGH58zFrd"
      },
      "execution_count": null,
      "outputs": []
    },
    {
      "cell_type": "code",
      "source": [
        "df = create_new_cols(df)\n",
        "df1 = create_new_cols(df1)\n",
        "df2 = create_new_cols(df2)"
      ],
      "metadata": {
        "id": "ouU1agNszL-z"
      },
      "execution_count": null,
      "outputs": []
    },
    {
      "cell_type": "code",
      "source": [
        "def concatenate_cols(df):\n",
        "  for index, row in df.iterrows():\n",
        "    # concatenate X and Y columns\n",
        "    x_arr = np.fromstring(row['X Velocities'][1:-1],sep=' ') \n",
        "\n",
        "    y_arr = np.fromstring(row['Y Velocities'][1:-1],sep=' ') \n",
        "    new_row = np.concatenate((x_arr, y_arr),axis=None) \n",
        "    \n",
        "    # create past column\n",
        "    df.at[index,'Past Velocity'] = new_row\n",
        "    # create future column\n",
        "    if index > 0:\n",
        "      df.at[index-1,'Future Velocity'] = df.at[index,'Past Velocity']\n",
        "  return df"
      ],
      "metadata": {
        "id": "ozOKDrthzMz8"
      },
      "execution_count": null,
      "outputs": []
    },
    {
      "cell_type": "code",
      "source": [
        "df = concatenate_cols(df)\n",
        "df1 = concatenate_cols(df1)\n",
        "df2 = concatenate_cols(df2)"
      ],
      "metadata": {
        "id": "dG0uhu61zO9e"
      },
      "execution_count": null,
      "outputs": []
    },
    {
      "cell_type": "code",
      "source": [
        "def split_sequences(sequences, n_steps_in, n_steps_out):\n",
        "\tX, y = list(), list()\n",
        "\tfor i in range(len(sequences)):\n",
        "\t\t# find the end of this pattern\n",
        "\t\tend_ix = i + n_steps_in\n",
        "\t\tout_end_ix = end_ix + n_steps_out\n",
        "\t\t# check if we are beyond the dataset\n",
        "\t\tif out_end_ix > len(sequences):\n",
        "\t\t\tbreak\n",
        "\t\t# gather input and output parts of the pattern\n",
        "\t\t# seq_x, seq_y = sequences[i:end_ix, :], sequences[end_ix:out_end_ix, :]\n",
        "\t\tseq_x, seq_y = sequences[i:end_ix], sequences[end_ix:out_end_ix]\n",
        "\t\tX.append(seq_x)\n",
        "\t\ty.append(seq_y)\n",
        "\treturn array(X), array(y)"
      ],
      "metadata": {
        "id": "gcKaooNBzRtd"
      },
      "execution_count": null,
      "outputs": []
    },
    {
      "cell_type": "code",
      "source": [
        "def create_sequences(df):\n",
        "  #define input sequence\n",
        "  in_seq1 = df.at[0,'Past Velocity']\n",
        "  in_seq2 = df.at[1,'Past Velocity']\n",
        "  out_seq = df.at[1,'Future Velocity']\n",
        "  # convert to [rows, columns] structure\n",
        "  in_seq1 = in_seq1.reshape((len(in_seq1), 1))\n",
        "  in_seq2 = in_seq2.reshape((len(in_seq2), 1))\n",
        "  out_seq = out_seq.reshape((len(out_seq), 1))\n",
        "  # horizontally stack columns\n",
        "  dataset = hstack((in_seq1, in_seq2, out_seq))\n",
        "  # normalize\n",
        "  scaler = preprocessing.MinMaxScaler()\n",
        "  d = scaler.fit_transform(dataset)\n",
        "  # choose a number of time steps\n",
        "  n_steps_in = 5\n",
        "  n_steps_out = 1\n",
        "  # convert into input/output\n",
        "  X, y = split_sequences(d, n_steps_in, n_steps_out) \n",
        "  print(X.shape, y.shape)\n",
        "  #summarize the data\n",
        "  # for i in range(len(X)):\n",
        "  #        print(X[i], y[i])\n",
        "  return n_steps_in, n_steps_out, X, y"
      ],
      "metadata": {
        "id": "0ywbRITyzUJM"
      },
      "execution_count": null,
      "outputs": []
    },
    {
      "cell_type": "code",
      "source": [
        "n_steps_in, n_steps_out, X , y = create_sequences(df)\n",
        "_, _, X_d1, y_d1 = create_sequences(df1)\n",
        "_, _, X_d2, y_d2 = create_sequences(df2)"
      ],
      "metadata": {
        "id": "Uxuj4LP2zXiI",
        "colab": {
          "base_uri": "https://localhost:8080/"
        },
        "outputId": "7a4f5d31-a5eb-4727-dfd3-1f803da4c1eb"
      },
      "execution_count": null,
      "outputs": [
        {
          "output_type": "stream",
          "name": "stdout",
          "text": [
            "(55, 5, 3) (55, 1, 3)\n",
            "(55, 5, 3) (55, 1, 3)\n",
            "(55, 5, 3) (55, 1, 3)\n"
          ]
        }
      ]
    },
    {
      "cell_type": "markdown",
      "source": [
        "# Parameters"
      ],
      "metadata": {
        "id": "CtkzDscGzf6V"
      }
    },
    {
      "cell_type": "code",
      "source": [
        "n_features = X.shape[2]"
      ],
      "metadata": {
        "id": "8SlZd9hOzZXC"
      },
      "execution_count": null,
      "outputs": []
    },
    {
      "cell_type": "code",
      "source": [
        "# parameters\n",
        "test_size = 0.2\n",
        "number_of_epoches = 50\n",
        "#number_of_epoches = 1000\n",
        "batches = 100"
      ],
      "metadata": {
        "id": "YzRnUWcNzbBy"
      },
      "execution_count": null,
      "outputs": []
    },
    {
      "cell_type": "markdown",
      "source": [
        "# Train - Test split"
      ],
      "metadata": {
        "id": "7rsHY0DuzkdP"
      }
    },
    {
      "cell_type": "code",
      "source": [
        "def splitting_test_train(X, y, test_size):\n",
        "  # train and testing split\n",
        "  X_train, X_test, y_train, y_test = train_test_split(X, y, test_size=test_size)\n",
        "\n",
        "  # print shape\n",
        "  print(\"Shapes: \",X_train.shape, X_test.shape, y_train.shape, y_test.shape)\n",
        "\n",
        "  return X_train, X_test, y_train, y_test"
      ],
      "metadata": {
        "id": "NuIahbhRzpZZ"
      },
      "execution_count": null,
      "outputs": []
    },
    {
      "cell_type": "code",
      "source": [
        "X_train, X_test, y_train, y_test = splitting_test_train(X, y, test_size)"
      ],
      "metadata": {
        "id": "wMKAhLlIzsYT",
        "colab": {
          "base_uri": "https://localhost:8080/"
        },
        "outputId": "c907c200-26a8-4244-f352-b53e66746cb9"
      },
      "execution_count": null,
      "outputs": [
        {
          "output_type": "stream",
          "name": "stdout",
          "text": [
            "Shapes:  (44, 5, 3) (11, 5, 3) (44, 1, 3) (11, 1, 3)\n"
          ]
        }
      ]
    },
    {
      "cell_type": "code",
      "source": [
        "X_dummy1, X_dtest1, y_dummy1, y_dtest1 = splitting_test_train(X_d1, y_d1, test_size=0.98)\n",
        "X_dummy2, X_dtest2, y_dummy2, y_dtest2 = splitting_test_train(X_d2, y_d2, test_size=0.98)"
      ],
      "metadata": {
        "id": "2-6xNLcdztjP",
        "colab": {
          "base_uri": "https://localhost:8080/"
        },
        "outputId": "b9fb3730-a492-44ae-a25c-d4457f03706d"
      },
      "execution_count": null,
      "outputs": [
        {
          "output_type": "stream",
          "name": "stdout",
          "text": [
            "Shapes:  (1, 5, 3) (54, 5, 3) (1, 1, 3) (54, 1, 3)\n",
            "Shapes:  (1, 5, 3) (54, 5, 3) (1, 1, 3) (54, 1, 3)\n"
          ]
        }
      ]
    },
    {
      "cell_type": "markdown",
      "source": [
        "# LSTM"
      ],
      "metadata": {
        "id": "JNe7mc9Izuwp"
      }
    },
    {
      "cell_type": "code",
      "source": [
        "# define model 4\n",
        "model = Sequential()\n",
        "model.add(LSTM(10, activation='relu', return_sequences=True, input_shape=(n_steps_in, n_features)))\n",
        "model.add(Dropout(0.2))\n",
        "model.add(LSTM(10, activation='relu'))\n",
        "model.add(Dense(n_features))"
      ],
      "metadata": {
        "id": "Qr7I-1-1MNR2"
      },
      "execution_count": null,
      "outputs": []
    },
    {
      "cell_type": "code",
      "source": [
        "model.compile(optimizer='adam', loss='mse',metrics=['accuracy'])\n",
        "model.summary()"
      ],
      "metadata": {
        "id": "XKSO7GTzz3uS",
        "colab": {
          "base_uri": "https://localhost:8080/"
        },
        "outputId": "6e23ae86-bb61-4cbf-c724-1a401e08cd84"
      },
      "execution_count": null,
      "outputs": [
        {
          "output_type": "stream",
          "name": "stdout",
          "text": [
            "Model: \"sequential\"\n",
            "_________________________________________________________________\n",
            " Layer (type)                Output Shape              Param #   \n",
            "=================================================================\n",
            " lstm (LSTM)                 (None, 5, 10)             560       \n",
            "                                                                 \n",
            " dropout (Dropout)           (None, 5, 10)             0         \n",
            "                                                                 \n",
            " lstm_1 (LSTM)               (None, 10)                840       \n",
            "                                                                 \n",
            " dense (Dense)               (None, 3)                 33        \n",
            "                                                                 \n",
            "=================================================================\n",
            "Total params: 1,433\n",
            "Trainable params: 1,433\n",
            "Non-trainable params: 0\n",
            "_________________________________________________________________\n"
          ]
        }
      ]
    },
    {
      "cell_type": "code",
      "source": [
        "# train model\n",
        "history = model.fit(X_train, y_train, validation_split=0.3 ,batch_size=batches, epochs=number_of_epoches, verbose=0)"
      ],
      "metadata": {
        "id": "GhIfrU_uz6_s"
      },
      "execution_count": null,
      "outputs": []
    },
    {
      "cell_type": "markdown",
      "source": [
        "# Graphs"
      ],
      "metadata": {
        "id": "0DisvvqIz85t"
      }
    },
    {
      "cell_type": "code",
      "source": [
        "#  Training and Validation Loss\n",
        "# optimization learning curves\n",
        "loss_train = history.history['loss']\n",
        "loss_val = history.history['val_loss']\n",
        "epochs = range(1,number_of_epoches+1)\n",
        "\n",
        "plt.plot(epochs, loss_train, 'g', label='Training loss')\n",
        "plt.plot(epochs, loss_val, 'b', label='Validation loss')\n",
        "plt.title('Training and Validation loss')\n",
        "plt.xlabel('Epochs')\n",
        "plt.ylabel('Loss')\n",
        "plt.legend()\n",
        "plt.show()"
      ],
      "metadata": {
        "id": "0eT5di1-z-5c",
        "colab": {
          "base_uri": "https://localhost:8080/",
          "height": 295
        },
        "outputId": "094f0b83-6ed6-4f63-803e-9ef7169a141d"
      },
      "execution_count": null,
      "outputs": [
        {
          "output_type": "display_data",
          "data": {
            "text/plain": [
              "<Figure size 432x288 with 1 Axes>"
            ],
            "image/png": "[encoded data removed]"
          },
          "metadata": {
            "needs_background": "light"
          }
        }
      ]
    },
    {
      "cell_type": "code",
      "source": [
        "#  Training and Validation Accuracy\n",
        "#performance learning curves\n",
        "loss_train = history.history['accuracy']\n",
        "loss_val = history.history['val_accuracy']\n",
        "epochs = range(1,number_of_epoches+1)\n",
        "plt.plot(epochs, loss_train, 'g', label='Training accuracy')\n",
        "plt.plot(epochs, loss_val, 'b', label='validation accuracy')\n",
        "plt.title('Training and Validation accuracy')\n",
        "plt.xlabel('Epochs')\n",
        "plt.ylabel('Accuracy')\n",
        "plt.legend()\n",
        "plt.show()"
      ],
      "metadata": {
        "id": "UEjgofNc0Abz",
        "colab": {
          "base_uri": "https://localhost:8080/",
          "height": 295
        },
        "outputId": "e97b656b-a239-46d2-c166-fa702f2637f7"
      },
      "execution_count": null,
      "outputs": [
        {
          "output_type": "display_data",
          "data": {
            "text/plain": [
              "<Figure size 432x288 with 1 Axes>"
            ],
            "image/png": "[encoded data removed]"
          },
          "metadata": {
            "needs_background": "light"
          }
        }
      ]
    },
    {
      "cell_type": "markdown",
      "source": [
        "# Evaluation"
      ],
      "metadata": {
        "id": "vWqdu-xp0EgB"
      }
    },
    {
      "cell_type": "code",
      "source": [
        "def model_evaluate(X_train, X_test, y_train, y_test):\n",
        "  # evaluate the model\n",
        "  _, train_acc = model.evaluate(X_train, y_train, verbose=0)\n",
        "  _, test_acc = model.evaluate(X_test, y_test, verbose=0)\n",
        "  print('Train: %.3f, Test: %.3f' % (train_acc, test_acc))\n",
        "  return train_acc, test_acc"
      ],
      "metadata": {
        "id": "VDzuxd180Czr"
      },
      "execution_count": null,
      "outputs": []
    },
    {
      "cell_type": "code",
      "source": [
        "train_acc, test_acc = model_evaluate(X_train, X_test, y_train, y_test)"
      ],
      "metadata": {
        "id": "du77Gcg90JMY",
        "colab": {
          "base_uri": "https://localhost:8080/"
        },
        "outputId": "33b94139-7a2c-478b-b860-db3bc2771e53"
      },
      "execution_count": null,
      "outputs": [
        {
          "output_type": "stream",
          "name": "stdout",
          "text": [
            "Train: 0.788, Test: 0.818\n"
          ]
        }
      ]
    },
    {
      "cell_type": "code",
      "source": [
        "train_ac, test_acc = model_evaluate(X_dummy1, X_dtest1, y_dummy1, y_dtest1)\n",
        "train_ac, test_acc = model_evaluate(X_dummy2, X_dtest2, y_dummy2, y_dtest2)"
      ],
      "metadata": {
        "id": "mcGxIhXU0J66",
        "colab": {
          "base_uri": "https://localhost:8080/"
        },
        "outputId": "dd92f8e1-27bd-423a-a0b7-c09f477dad98"
      },
      "execution_count": null,
      "outputs": [
        {
          "output_type": "stream",
          "name": "stdout",
          "text": [
            "Train: 1.000, Test: 0.643\n",
            "Train: 1.000, Test: 0.507\n"
          ]
        }
      ]
    },
    {
      "cell_type": "code",
      "source": [
        "y_train_pred = model.predict(X_train, verbose=0)\n",
        "train_mae_loss = (np.abs(y_train_pred-y_train)).mean(axis=1)\n",
        "#print(train_mae_loss)\n",
        "y_test_pred = model.predict(X_test, verbose=0)\n",
        "test_mae_loss = (np.abs(y_test_pred-y_test)).mean(axis=1)\n",
        "#print(test_mae_loss)"
      ],
      "metadata": {
        "id": "i1gK2SOy0QVm"
      },
      "execution_count": null,
      "outputs": []
    },
    {
      "cell_type": "code",
      "source": [
        "# Dummy 1\n",
        "y_train_pred1 = model.predict(X_dummy1, verbose=0)\n",
        "train_mae_loss1 = (np.abs(y_train_pred1-y_dummy1)).mean(axis=1)\n",
        "#print(train_mae_loss)\n",
        "y_test_pred1 = model.predict(X_dtest1, verbose=0)\n",
        "test_mae_loss1 = (np.abs(y_test_pred1-y_dtest1)).mean(axis=1)\n",
        "#print(test_mae_loss)"
      ],
      "metadata": {
        "id": "pQGCqS0Z0TdZ"
      },
      "execution_count": null,
      "outputs": []
    },
    {
      "cell_type": "code",
      "source": [
        "# Dummy 2\n",
        "y_train_pred2 = model.predict(X_dummy2, verbose=0)\n",
        "train_mae_loss2 = (np.abs(y_train_pred2-y_dummy2)).mean(axis=1)\n",
        "#print(train_mae_loss)\n",
        "y_test_pred2 = model.predict(X_dtest2, verbose=0)\n",
        "test_mae_loss2 = (np.abs(y_test_pred2-y_dtest2)).mean(axis=1)\n",
        "#print(test_mae_loss)"
      ],
      "metadata": {
        "id": "jPgbRT2G0l_w"
      },
      "execution_count": null,
      "outputs": []
    },
    {
      "cell_type": "markdown",
      "source": [
        "# Anomaly Detection"
      ],
      "metadata": {
        "id": "bgrgT1310nuu"
      }
    },
    {
      "cell_type": "code",
      "source": [
        "def find_limits_anomalies(data):\n",
        "    #Based on this formula X = µ  ± Zσ\n",
        "\n",
        "    # Set upper and lower limit to 3 standard deviation\n",
        "    data_std = np.std(data)\n",
        "    data_mean = np.mean(data)\n",
        "    anomaly_cut_off = data_std * 2\n",
        "    \n",
        "    lower_limit  = data_mean - anomaly_cut_off \n",
        "    upper_limit = data_mean + anomaly_cut_off\n",
        "    print(lower_limit)\n",
        "    print(upper_limit)\n",
        "\n",
        "    return lower_limit,upper_limit"
      ],
      "metadata": {
        "id": "tiLTFZn30q8r"
      },
      "execution_count": null,
      "outputs": []
    },
    {
      "cell_type": "code",
      "source": [
        "# get the limits from the trained data\n",
        "#lower, upper = find_limits_anomalies(train_mae_loss)\n",
        "# mae\n",
        "lower, upper = find_limits_anomalies(y_train_pred)"
      ],
      "metadata": {
        "id": "kb0bTQLF0tXp",
        "colab": {
          "base_uri": "https://localhost:8080/"
        },
        "outputId": "0a261c43-bad0-4371-e5b7-6c2b49417998"
      },
      "execution_count": null,
      "outputs": [
        {
          "output_type": "stream",
          "name": "stdout",
          "text": [
            "0.04238113388419151\n",
            "0.09522830322384834\n"
          ]
        }
      ]
    },
    {
      "cell_type": "code",
      "source": [
        "def find_anomalies(data_to_test, lower, upper):\n",
        "\n",
        "    data_mean = np.mean(data_to_test)\n",
        "\n",
        "    # See your new mean\n",
        "    for new_data_mean in data_to_test:\n",
        "        if new_data_mean.max() > upper or new_data_mean.min() < lower:\n",
        "            #anomalies.append(new_data_mean)\n",
        "            print(\"There is an anomaly present\")\n",
        "\n",
        "    #return anomalies"
      ],
      "metadata": {
        "id": "repawE_i0umC"
      },
      "execution_count": null,
      "outputs": []
    },
    {
      "cell_type": "code",
      "source": [
        "#new_input 1\n",
        "find_anomalies(y_test_pred1,lower,upper)\n",
        "#find_anomalies(test_mae_loss1,lower,upper)"
      ],
      "metadata": {
        "id": "A93n4WlJ0v0-",
        "colab": {
          "base_uri": "https://localhost:8080/"
        },
        "outputId": "7270a498-5276-44e9-b2bc-f7654ff7810b"
      },
      "execution_count": null,
      "outputs": [
        {
          "output_type": "stream",
          "name": "stdout",
          "text": [
            "There is an anomaly present\n",
            "There is an anomaly present\n",
            "There is an anomaly present\n",
            "There is an anomaly present\n"
          ]
        }
      ]
    },
    {
      "cell_type": "code",
      "source": [
        "#new_input 2\n",
        "find_anomalies(y_test_pred2,lower,upper)\n",
        "#find_anomalies(test_mae_loss2,lower,upper)"
      ],
      "metadata": {
        "id": "fnv24vlG0xw4",
        "colab": {
          "base_uri": "https://localhost:8080/"
        },
        "outputId": "3b4cc127-3a8d-4dd1-a03a-8ac7f30cc787"
      },
      "execution_count": null,
      "outputs": [
        {
          "output_type": "stream",
          "name": "stdout",
          "text": [
            "There is an anomaly present\n",
            "There is an anomaly present\n",
            "There is an anomaly present\n",
            "There is an anomaly present\n"
          ]
        }
      ]
    },
    {
      "cell_type": "markdown",
      "source": [
        "# Save Model"
      ],
      "metadata": {
        "id": "bCF7wnydebpj"
      }
    },
    {
      "cell_type": "code",
      "source": [
        "# save model to single file\n",
        "model.save('/content/drive/MyDrive/Thesis/models/lstm_model2.h5')\n",
        "\n",
        "# how to load model\n",
        "#model = load_model('lstm_model.h5')"
      ],
      "metadata": {
        "id": "H5Fj09m40Ncb"
      },
      "execution_count": null,
      "outputs": []
    }
  ]
}